{
 "cells": [
  {
   "cell_type": "code",
   "execution_count": 2,
   "metadata": {},
   "outputs": [
    {
     "ename": "SyntaxError",
     "evalue": "invalid syntax (<ipython-input-2-cc708ab31adb>, line 6)",
     "output_type": "error",
     "traceback": [
      "\u001b[1;36m  File \u001b[1;32m\"<ipython-input-2-cc708ab31adb>\"\u001b[1;36m, line \u001b[1;32m6\u001b[0m\n\u001b[1;33m    Class KMeansCluster:\u001b[0m\n\u001b[1;37m          ^\u001b[0m\n\u001b[1;31mSyntaxError\u001b[0m\u001b[1;31m:\u001b[0m invalid syntax\n"
     ]
    }
   ],
   "source": [
    "import matplotlib.pyplot as plt\n",
    "from sklearn.cluster import KMeans\n",
    "from kneed import KneeLocator\n",
    "from file_operations import file_methods\n",
    "from data_preprocessor import data_preprocessing\n",
    "\n",
    "\n",
    "Class KMeansCluster:\n",
    "          \"\"\"\n",
    "            This class shall  be used to divide the data into clusters before training.\"\"\"\n",
    "        def __init__(self, file_object, logger_object):\n",
    "        self.file_object = file_object\n",
    "        self.logger_object = logger_object\n",
    "\n",
    "        def elbow_plot(self,data):\n",
    "            self.logger_object.log(self.file_object, 'Entered the remove_columns method of the Preprocessor class')\n",
    "            self.data=data\n",
    "            self.columns=columns\n",
    "            try:\n",
    "                X = data_preprocessing.dropUnnecessaryColumns(data,['ID', 'Education', 'Marital_Status', 'MntWines', 'MntFruits','MntMeatProducts',\n",
    "                          'MntFishProducts', 'MntSweetProducts', 'MntGoldProds', 'Z_CostContact',\n",
    "                          'Z_Revenue', 'Recency', 'NumDealsPurchases', 'NumWebPurchases','NumCatalogPurchases',\n",
    "                          'NumStorePurchases', 'NumWebVisitsMonth', 'AcceptedCmp3', 'AcceptedCmp4', 'AcceptedCmp5',\n",
    "                          'AcceptedCmp1', 'AcceptedCmp2', 'Complain',  'Response', 'AgeGroup','Kidhome','Teenhome','Dt_Customer','Year_Birth'],axis=1)\n",
    "                k = range(2,9)\n",
    "                inertias = []\n",
    "\n",
    "                for n_clusters in k:\n",
    "                    model = KMeans(n_clusters, random_state=42).fit(X)\n",
    "                    inertias.append(model.inertia_)\n",
    "            plt.figure(figsize=(12,8))    \n",
    "            plt.title(\"No. of clusters vs. Inertia\")\n",
    "            plt.plot(k, inertias, '-o')\n",
    "            plt.xticks( fontsize=16)\n",
    "            plt.yticks( fontsize=16)\n",
    "            plt.xlabel('No. of Clusters (K)', fontsize=20, labelpad=20)\n",
    "            plt.ylabel('Inertia', fontsize=20, labelpad=20);\n",
    "            plt.savefig('preprocessing/K-Means_Elbow.PNG')\n",
    "            \n",
    "            except Exception as e:\n",
    "                self.logger_object.log(self.file_object,'Exception occured in elbow_plot method of the KMeansClustering class. Exception message:  ' + str(e))\n",
    "                self.logger_object.log(self.file_object,'Finding the number of clusters failed. Exited the elbow_plot method of the KMeansClustering class')\n",
    "                raise Exception()\n",
    "        def create_clusters(self,data):\n",
    "             \"\"\"\n",
    "                                Method Name: create_clusters\n",
    "                                Description: Create a new dataframe consisting of the cluster information.\n",
    "                                Output: A datframe with cluster column\n",
    "                                On Failure: Raise Exception \"\"\"\n",
    "            self.logger_object.log(self.file_object, 'Entered the create_clusters method of the KMeansClustering class')\n",
    "            self.data=data\n",
    "            try:\n",
    "                self.model = KMeans(n_clusters=4, init='k-means++', random_state=42).fit(X)\n",
    "                self.preds = self.model.predict(X)\n",
    "                #customer_kmeans = X.copy()\n",
    "                #'customer_kmeans['clusters'] = preds\n",
    "                self.file_op = file_methods.File_Operation(self.file_object,self.logger_object)\n",
    "                self.save_model = self.file_op.save_model(self.model, 'KMeans') # saving the KMeans model to directory\n",
    "                                                                                    # passing 'Model' as the functions need three parameters\n",
    "\n",
    "            self.data['Cluster']=self.preds  # create a new column in dataset for storing the cluster information\n",
    "            self.logger_object.log(self.file_object, 'succesfully created '+str(n_clusters)+ 'clusters. Exited the create_clusters method of the KMeansClustering class')\n",
    "            return self.data\n",
    "        except Exception as e:\n",
    "            self.logger_object.log(self.file_object,'Exception occured in create_clusters method of the KMeansClustering class. Exception message:  ' + str(e))\n",
    "            self.logger_object.log(self.file_object,'Fitting the data to clusters failed. Exited the create_clusters method of the KMeansClustering class')\n",
    "            raise Exception()"
   ]
  },
  {
   "cell_type": "code",
   "execution_count": null,
   "metadata": {},
   "outputs": [],
   "source": []
  }
 ],
 "metadata": {
  "kernelspec": {
   "display_name": "Python 3",
   "language": "python",
   "name": "python3"
  },
  "language_info": {
   "codemirror_mode": {
    "name": "ipython",
    "version": 3
   },
   "file_extension": ".py",
   "mimetype": "text/x-python",
   "name": "python",
   "nbconvert_exporter": "python",
   "pygments_lexer": "ipython3",
   "version": "3.8.5"
  }
 },
 "nbformat": 4,
 "nbformat_minor": 4
}
