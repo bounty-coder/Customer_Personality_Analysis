{
 "cells": [
  {
   "cell_type": "code",
   "execution_count": null,
   "metadata": {},
   "outputs": [],
   "source": [
    "from datetime import datetime\n",
    "\n",
    "\n",
    "class App_Logger:\n",
    "    def __init__(self):\n",
    "        pass\n",
    "\n",
    "    def log(self, file_object, log_message):\n",
    "        self.now = datetime.now()\n",
    "        self.date = self.now.date()\n",
    "        self.current_time = self.now.strftime(\"%H:%M:%S\")\n",
    "        file_object.write(str(self.date) + \"/\" + str(self.current_time) + \"\\t\\t\" + log_message +\"\\n\")\n"
   ]
  }
 ],
 "metadata": {
  "kernelspec": {
   "display_name": "Python 3",
   "language": "python",
   "name": "python3"
  },
  "language_info": {
   "codemirror_mode": {
    "name": "ipython",
    "version": 3
   },
   "file_extension": ".py",
   "mimetype": "text/x-python",
   "name": "python",
   "nbconvert_exporter": "python",
   "pygments_lexer": "ipython3",
   "version": "3.8.5"
  }
 },
 "nbformat": 4,
 "nbformat_minor": 4
}
