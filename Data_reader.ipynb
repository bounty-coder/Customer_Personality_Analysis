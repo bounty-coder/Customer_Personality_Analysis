{
 "cells": [
  {
   "cell_type": "code",
   "execution_count": 1,
   "metadata": {},
   "outputs": [],
   "source": [
    "import pandas as pd\n",
    "\n",
    "class Data_Read:\n",
    "    \"\"\"\n",
    "    This class shall  be used for obtaining the data from the source for training.\n",
    "\n",
    "    \"\"\"\n",
    "    def __init__(self, file_object, logger_object):\n",
    "        self.training_file='cpa.csv'\n",
    "        self.file_object=file_object\n",
    "        self.logger_object=logger_object\n",
    "\n",
    "    def get_data(self):\n",
    "        \"\"\"\n",
    "        Method Name: get_data\n",
    "        Description: This method reads the data from source.\n",
    "        Output: A pandas DataFrame.\n",
    "        On Failure: Raise Exception\n",
    "\n",
    "        \"\"\"\n",
    "        self.logger_object.log(self.file_object,'Entered the get_data method of the Data_Read class')\n",
    "        try:\n",
    "            self.data= pd.read_csv(self.training_file) # reading the data file\n",
    "            self.logger_object.log(self.file_object,'Data Load Successful.Exited the get_data method of the Data_Getter class')\n",
    "            return self.data\n",
    "        except Exception as e:\n",
    "            self.logger_object.log(self.file_object,'Exception occured in get_data method of the Data_Getter class. Exception message: '+str(e))\n",
    "            self.logger_object.log(self.file_object,\n",
    "                                   'Data Load Unsuccessful.Exited the get_data method of the Data_Getter class')\n",
    "            raise Exception()\n",
    "\n",
    "\n"
   ]
  },
  {
   "cell_type": "code",
   "execution_count": null,
   "metadata": {},
   "outputs": [],
   "source": [
    "\n"
   ]
  }
 ],
 "metadata": {
  "kernelspec": {
   "display_name": "Python 3",
   "language": "python",
   "name": "python3"
  },
  "language_info": {
   "codemirror_mode": {
    "name": "ipython",
    "version": 3
   },
   "file_extension": ".py",
   "mimetype": "text/x-python",
   "name": "python",
   "nbconvert_exporter": "python",
   "pygments_lexer": "ipython3",
   "version": "3.8.5"
  }
 },
 "nbformat": 4,
 "nbformat_minor": 4
}
